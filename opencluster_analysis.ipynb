{
  "cells": [
    {
      "cell_type": "code",
      "execution_count": 28,
      "metadata": {},
      "outputs": [
        {
          "name": "stdout",
          "output_type": "stream",
          "text": [
            "Requirement already satisfied: astropy==6.0.0 in c:\\users\\sachsanjoy\\appdata\\local\\programs\\python\\python312\\lib\\site-packages (from -r requirements.txt (line 1)) (6.0.0)\n",
            "Requirement already satisfied: astropy-iers-data==0.2024.1.1.0.33.39 in c:\\users\\sachsanjoy\\appdata\\local\\programs\\python\\python312\\lib\\site-packages (from -r requirements.txt (line 2)) (0.2024.1.1.0.33.39)\n",
            "Requirement already satisfied: astroquery==0.4.6 in c:\\users\\sachsanjoy\\appdata\\local\\programs\\python\\python312\\lib\\site-packages (from -r requirements.txt (line 3)) (0.4.6)\n",
            "Requirement already satisfied: asttokens==2.4.1 in c:\\users\\sachsanjoy\\appdata\\roaming\\python\\python312\\site-packages (from -r requirements.txt (line 4)) (2.4.1)\n",
            "Requirement already satisfied: beautifulsoup4==4.12.2 in c:\\users\\sachsanjoy\\appdata\\local\\programs\\python\\python312\\lib\\site-packages (from -r requirements.txt (line 5)) (4.12.2)\n",
            "Requirement already satisfied: certifi==2023.11.17 in c:\\users\\sachsanjoy\\appdata\\local\\programs\\python\\python312\\lib\\site-packages (from -r requirements.txt (line 6)) (2023.11.17)\n",
            "Requirement already satisfied: charset-normalizer==3.3.2 in c:\\users\\sachsanjoy\\appdata\\local\\programs\\python\\python312\\lib\\site-packages (from -r requirements.txt (line 7)) (3.3.2)\n",
            "Requirement already satisfied: colorama==0.4.6 in c:\\users\\sachsanjoy\\appdata\\roaming\\python\\python312\\site-packages (from -r requirements.txt (line 8)) (0.4.6)\n",
            "Requirement already satisfied: comm==0.2.1 in c:\\users\\sachsanjoy\\appdata\\roaming\\python\\python312\\site-packages (from -r requirements.txt (line 9)) (0.2.1)\n",
            "Requirement already satisfied: contourpy==1.2.0 in c:\\users\\sachsanjoy\\appdata\\local\\programs\\python\\python312\\lib\\site-packages (from -r requirements.txt (line 10)) (1.2.0)\n",
            "Requirement already satisfied: cycler==0.12.1 in c:\\users\\sachsanjoy\\appdata\\local\\programs\\python\\python312\\lib\\site-packages (from -r requirements.txt (line 11)) (0.12.1)\n",
            "Requirement already satisfied: debugpy==1.8.0 in c:\\users\\sachsanjoy\\appdata\\roaming\\python\\python312\\site-packages (from -r requirements.txt (line 12)) (1.8.0)\n",
            "Requirement already satisfied: decorator==5.1.1 in c:\\users\\sachsanjoy\\appdata\\roaming\\python\\python312\\site-packages (from -r requirements.txt (line 13)) (5.1.1)\n",
            "Requirement already satisfied: executing==2.0.1 in c:\\users\\sachsanjoy\\appdata\\roaming\\python\\python312\\site-packages (from -r requirements.txt (line 14)) (2.0.1)\n",
            "Requirement already satisfied: fonttools==4.47.0 in c:\\users\\sachsanjoy\\appdata\\local\\programs\\python\\python312\\lib\\site-packages (from -r requirements.txt (line 15)) (4.47.0)\n",
            "Requirement already satisfied: gaiadr3-zeropoint==0.0.4 in c:\\users\\sachsanjoy\\appdata\\local\\programs\\python\\python312\\lib\\site-packages (from -r requirements.txt (line 16)) (0.0.4)\n",
            "Requirement already satisfied: html5lib==1.1 in c:\\users\\sachsanjoy\\appdata\\local\\programs\\python\\python312\\lib\\site-packages (from -r requirements.txt (line 17)) (1.1)\n",
            "Requirement already satisfied: idna==3.6 in c:\\users\\sachsanjoy\\appdata\\local\\programs\\python\\python312\\lib\\site-packages (from -r requirements.txt (line 18)) (3.6)\n",
            "Requirement already satisfied: ipykernel==6.28.0 in c:\\users\\sachsanjoy\\appdata\\roaming\\python\\python312\\site-packages (from -r requirements.txt (line 19)) (6.28.0)\n",
            "Requirement already satisfied: ipython==8.19.0 in c:\\users\\sachsanjoy\\appdata\\roaming\\python\\python312\\site-packages (from -r requirements.txt (line 20)) (8.19.0)\n",
            "Requirement already satisfied: jaraco.classes==3.3.0 in c:\\users\\sachsanjoy\\appdata\\local\\programs\\python\\python312\\lib\\site-packages (from -r requirements.txt (line 21)) (3.3.0)\n",
            "Requirement already satisfied: jedi==0.19.1 in c:\\users\\sachsanjoy\\appdata\\roaming\\python\\python312\\site-packages (from -r requirements.txt (line 22)) (0.19.1)\n",
            "Requirement already satisfied: joblib==1.3.2 in c:\\users\\sachsanjoy\\appdata\\local\\programs\\python\\python312\\lib\\site-packages (from -r requirements.txt (line 23)) (1.3.2)\n",
            "Requirement already satisfied: jupyter_client==8.6.0 in c:\\users\\sachsanjoy\\appdata\\roaming\\python\\python312\\site-packages (from -r requirements.txt (line 24)) (8.6.0)\n",
            "Requirement already satisfied: jupyter_core==5.7.0 in c:\\users\\sachsanjoy\\appdata\\roaming\\python\\python312\\site-packages (from -r requirements.txt (line 25)) (5.7.0)\n",
            "Requirement already satisfied: keyring==24.3.0 in c:\\users\\sachsanjoy\\appdata\\local\\programs\\python\\python312\\lib\\site-packages (from -r requirements.txt (line 26)) (24.3.0)\n",
            "Requirement already satisfied: kiwisolver==1.4.5 in c:\\users\\sachsanjoy\\appdata\\local\\programs\\python\\python312\\lib\\site-packages (from -r requirements.txt (line 27)) (1.4.5)\n",
            "Requirement already satisfied: matplotlib==3.8.2 in c:\\users\\sachsanjoy\\appdata\\local\\programs\\python\\python312\\lib\\site-packages (from -r requirements.txt (line 28)) (3.8.2)\n",
            "Requirement already satisfied: matplotlib-inline==0.1.6 in c:\\users\\sachsanjoy\\appdata\\roaming\\python\\python312\\site-packages (from -r requirements.txt (line 29)) (0.1.6)\n",
            "Requirement already satisfied: more-itertools==10.1.0 in c:\\users\\sachsanjoy\\appdata\\local\\programs\\python\\python312\\lib\\site-packages (from -r requirements.txt (line 30)) (10.1.0)\n",
            "Requirement already satisfied: nest-asyncio==1.5.8 in c:\\users\\sachsanjoy\\appdata\\roaming\\python\\python312\\site-packages (from -r requirements.txt (line 31)) (1.5.8)\n",
            "Requirement already satisfied: numpy==1.26.3 in c:\\users\\sachsanjoy\\appdata\\local\\programs\\python\\python312\\lib\\site-packages (from -r requirements.txt (line 32)) (1.26.3)\n",
            "Requirement already satisfied: packaging==23.2 in c:\\users\\sachsanjoy\\appdata\\roaming\\python\\python312\\site-packages (from -r requirements.txt (line 33)) (23.2)\n",
            "Requirement already satisfied: pandas==2.1.4 in c:\\users\\sachsanjoy\\appdata\\local\\programs\\python\\python312\\lib\\site-packages (from -r requirements.txt (line 34)) (2.1.4)\n",
            "Requirement already satisfied: parso==0.8.3 in c:\\users\\sachsanjoy\\appdata\\roaming\\python\\python312\\site-packages (from -r requirements.txt (line 35)) (0.8.3)\n",
            "Requirement already satisfied: pillow==10.2.0 in c:\\users\\sachsanjoy\\appdata\\local\\programs\\python\\python312\\lib\\site-packages (from -r requirements.txt (line 36)) (10.2.0)\n",
            "Requirement already satisfied: platformdirs==4.1.0 in c:\\users\\sachsanjoy\\appdata\\roaming\\python\\python312\\site-packages (from -r requirements.txt (line 37)) (4.1.0)\n",
            "Requirement already satisfied: prompt-toolkit==3.0.43 in c:\\users\\sachsanjoy\\appdata\\roaming\\python\\python312\\site-packages (from -r requirements.txt (line 38)) (3.0.43)\n",
            "Requirement already satisfied: psutil==5.9.7 in c:\\users\\sachsanjoy\\appdata\\roaming\\python\\python312\\site-packages (from -r requirements.txt (line 39)) (5.9.7)\n",
            "Requirement already satisfied: pure-eval==0.2.2 in c:\\users\\sachsanjoy\\appdata\\roaming\\python\\python312\\site-packages (from -r requirements.txt (line 40)) (0.2.2)\n",
            "Requirement already satisfied: pyerfa==2.0.1.1 in c:\\users\\sachsanjoy\\appdata\\local\\programs\\python\\python312\\lib\\site-packages (from -r requirements.txt (line 41)) (2.0.1.1)\n",
            "Requirement already satisfied: Pygments==2.17.2 in c:\\users\\sachsanjoy\\appdata\\roaming\\python\\python312\\site-packages (from -r requirements.txt (line 42)) (2.17.2)\n",
            "Requirement already satisfied: pyparsing==3.1.1 in c:\\users\\sachsanjoy\\appdata\\local\\programs\\python\\python312\\lib\\site-packages (from -r requirements.txt (line 43)) (3.1.1)\n",
            "Requirement already satisfied: python-dateutil==2.8.2 in c:\\users\\sachsanjoy\\appdata\\roaming\\python\\python312\\site-packages (from -r requirements.txt (line 44)) (2.8.2)\n",
            "Requirement already satisfied: pytz==2023.3.post1 in c:\\users\\sachsanjoy\\appdata\\local\\programs\\python\\python312\\lib\\site-packages (from -r requirements.txt (line 45)) (2023.3.post1)\n",
            "Requirement already satisfied: pyvo==1.5 in c:\\users\\sachsanjoy\\appdata\\local\\programs\\python\\python312\\lib\\site-packages (from -r requirements.txt (line 46)) (1.5)\n",
            "Requirement already satisfied: pywin32==306 in c:\\users\\sachsanjoy\\appdata\\roaming\\python\\python312\\site-packages (from -r requirements.txt (line 47)) (306)\n",
            "Requirement already satisfied: pywin32-ctypes==0.2.2 in c:\\users\\sachsanjoy\\appdata\\local\\programs\\python\\python312\\lib\\site-packages (from -r requirements.txt (line 48)) (0.2.2)\n",
            "Requirement already satisfied: PyYAML==6.0.1 in c:\\users\\sachsanjoy\\appdata\\local\\programs\\python\\python312\\lib\\site-packages (from -r requirements.txt (line 49)) (6.0.1)\n",
            "Requirement already satisfied: pyzmq==25.1.2 in c:\\users\\sachsanjoy\\appdata\\roaming\\python\\python312\\site-packages (from -r requirements.txt (line 50)) (25.1.2)\n",
            "Requirement already satisfied: requests==2.31.0 in c:\\users\\sachsanjoy\\appdata\\local\\programs\\python\\python312\\lib\\site-packages (from -r requirements.txt (line 51)) (2.31.0)\n",
            "Requirement already satisfied: scikit-learn==1.3.2 in c:\\users\\sachsanjoy\\appdata\\local\\programs\\python\\python312\\lib\\site-packages (from -r requirements.txt (line 52)) (1.3.2)\n",
            "Requirement already satisfied: scipy==1.11.4 in c:\\users\\sachsanjoy\\appdata\\local\\programs\\python\\python312\\lib\\site-packages (from -r requirements.txt (line 53)) (1.11.4)\n",
            "Requirement already satisfied: six==1.16.0 in c:\\users\\sachsanjoy\\appdata\\roaming\\python\\python312\\site-packages (from -r requirements.txt (line 54)) (1.16.0)\n",
            "Requirement already satisfied: soupsieve==2.5 in c:\\users\\sachsanjoy\\appdata\\local\\programs\\python\\python312\\lib\\site-packages (from -r requirements.txt (line 55)) (2.5)\n",
            "Requirement already satisfied: stack-data==0.6.3 in c:\\users\\sachsanjoy\\appdata\\roaming\\python\\python312\\site-packages (from -r requirements.txt (line 56)) (0.6.3)\n",
            "Requirement already satisfied: threadpoolctl==3.2.0 in c:\\users\\sachsanjoy\\appdata\\local\\programs\\python\\python312\\lib\\site-packages (from -r requirements.txt (line 57)) (3.2.0)\n",
            "Requirement already satisfied: tornado==6.4 in c:\\users\\sachsanjoy\\appdata\\roaming\\python\\python312\\site-packages (from -r requirements.txt (line 58)) (6.4)\n",
            "Requirement already satisfied: traitlets==5.14.1 in c:\\users\\sachsanjoy\\appdata\\roaming\\python\\python312\\site-packages (from -r requirements.txt (line 59)) (5.14.1)\n",
            "Requirement already satisfied: tzdata==2023.4 in c:\\users\\sachsanjoy\\appdata\\local\\programs\\python\\python312\\lib\\site-packages (from -r requirements.txt (line 60)) (2023.4)\n",
            "Requirement already satisfied: urllib3==2.1.0 in c:\\users\\sachsanjoy\\appdata\\local\\programs\\python\\python312\\lib\\site-packages (from -r requirements.txt (line 61)) (2.1.0)\n",
            "Requirement already satisfied: wcwidth==0.2.12 in c:\\users\\sachsanjoy\\appdata\\roaming\\python\\python312\\site-packages (from -r requirements.txt (line 62)) (0.2.12)\n",
            "Requirement already satisfied: webencodings==0.5.1 in c:\\users\\sachsanjoy\\appdata\\local\\programs\\python\\python312\\lib\\site-packages (from -r requirements.txt (line 63)) (0.5.1)\n"
          ]
        },
        {
          "name": "stderr",
          "output_type": "stream",
          "text": [
            "\n",
            "[notice] A new release of pip is available: 23.2.1 -> 23.3.2\n",
            "[notice] To update, run: python.exe -m pip install --upgrade pip\n"
          ]
        }
      ],
      "source": [
        "%reset -fs\n",
        "! pip install -r requirements.txt"
      ]
    },
    {
      "cell_type": "code",
      "execution_count": 18,
      "metadata": {},
      "outputs": [
        {
          "name": "stdout",
          "output_type": "stream",
          "text": [
            "Requirement already satisfied: numpy in c:\\users\\sachsanjoy\\appdata\\local\\programs\\python\\python312\\lib\\site-packages (1.26.3)\n"
          ]
        },
        {
          "name": "stderr",
          "output_type": "stream",
          "text": [
            "\n",
            "[notice] A new release of pip is available: 23.2.1 -> 23.3.2\n",
            "[notice] To update, run: python.exe -m pip install --upgrade pip\n"
          ]
        },
        {
          "name": "stdout",
          "output_type": "stream",
          "text": [
            "Requirement already satisfied: astropy in c:\\users\\sachsanjoy\\appdata\\local\\programs\\python\\python312\\lib\\site-packages (6.0.0)\n",
            "Requirement already satisfied: numpy<2,>=1.22 in c:\\users\\sachsanjoy\\appdata\\local\\programs\\python\\python312\\lib\\site-packages (from astropy) (1.26.3)\n",
            "Requirement already satisfied: pyerfa>=2.0 in c:\\users\\sachsanjoy\\appdata\\local\\programs\\python\\python312\\lib\\site-packages (from astropy) (2.0.1.1)\n",
            "Requirement already satisfied: astropy-iers-data>=0.2023.10.30.0.29.53 in c:\\users\\sachsanjoy\\appdata\\local\\programs\\python\\python312\\lib\\site-packages (from astropy) (0.2024.1.1.0.33.39)\n",
            "Requirement already satisfied: PyYAML>=3.13 in c:\\users\\sachsanjoy\\appdata\\local\\programs\\python\\python312\\lib\\site-packages (from astropy) (6.0.1)\n",
            "Requirement already satisfied: packaging>=19.0 in c:\\users\\sachsanjoy\\appdata\\roaming\\python\\python312\\site-packages (from astropy) (23.2)\n"
          ]
        },
        {
          "name": "stderr",
          "output_type": "stream",
          "text": [
            "\n",
            "[notice] A new release of pip is available: 23.2.1 -> 23.3.2\n",
            "[notice] To update, run: python.exe -m pip install --upgrade pip\n"
          ]
        },
        {
          "name": "stdout",
          "output_type": "stream",
          "text": [
            "Requirement already satisfied: astroquery in c:\\users\\sachsanjoy\\appdata\\local\\programs\\python\\python312\\lib\\site-packages (0.4.6)\n",
            "Requirement already satisfied: numpy>=1.16 in c:\\users\\sachsanjoy\\appdata\\local\\programs\\python\\python312\\lib\\site-packages (from astroquery) (1.26.3)\n",
            "Requirement already satisfied: astropy>=4.0 in c:\\users\\sachsanjoy\\appdata\\local\\programs\\python\\python312\\lib\\site-packages (from astroquery) (6.0.0)\n",
            "Requirement already satisfied: requests>=2.4.3 in c:\\users\\sachsanjoy\\appdata\\local\\programs\\python\\python312\\lib\\site-packages (from astroquery) (2.31.0)\n",
            "Requirement already satisfied: beautifulsoup4>=4.3.2 in c:\\users\\sachsanjoy\\appdata\\local\\programs\\python\\python312\\lib\\site-packages (from astroquery) (4.12.2)\n",
            "Requirement already satisfied: html5lib>=0.999 in c:\\users\\sachsanjoy\\appdata\\local\\programs\\python\\python312\\lib\\site-packages (from astroquery) (1.1)\n",
            "Requirement already satisfied: keyring>=4.0 in c:\\users\\sachsanjoy\\appdata\\local\\programs\\python\\python312\\lib\\site-packages (from astroquery) (24.3.0)\n",
            "Requirement already satisfied: pyvo>=1.1 in c:\\users\\sachsanjoy\\appdata\\local\\programs\\python\\python312\\lib\\site-packages (from astroquery) (1.5)\n",
            "Requirement already satisfied: pyerfa>=2.0 in c:\\users\\sachsanjoy\\appdata\\local\\programs\\python\\python312\\lib\\site-packages (from astropy>=4.0->astroquery) (2.0.1.1)\n",
            "Requirement already satisfied: astropy-iers-data>=0.2023.10.30.0.29.53 in c:\\users\\sachsanjoy\\appdata\\local\\programs\\python\\python312\\lib\\site-packages (from astropy>=4.0->astroquery) (0.2024.1.1.0.33.39)\n",
            "Requirement already satisfied: PyYAML>=3.13 in c:\\users\\sachsanjoy\\appdata\\local\\programs\\python\\python312\\lib\\site-packages (from astropy>=4.0->astroquery) (6.0.1)\n",
            "Requirement already satisfied: packaging>=19.0 in c:\\users\\sachsanjoy\\appdata\\roaming\\python\\python312\\site-packages (from astropy>=4.0->astroquery) (23.2)\n",
            "Requirement already satisfied: soupsieve>1.2 in c:\\users\\sachsanjoy\\appdata\\local\\programs\\python\\python312\\lib\\site-packages (from beautifulsoup4>=4.3.2->astroquery) (2.5)\n",
            "Requirement already satisfied: six>=1.9 in c:\\users\\sachsanjoy\\appdata\\roaming\\python\\python312\\site-packages (from html5lib>=0.999->astroquery) (1.16.0)\n",
            "Requirement already satisfied: webencodings in c:\\users\\sachsanjoy\\appdata\\local\\programs\\python\\python312\\lib\\site-packages (from html5lib>=0.999->astroquery) (0.5.1)\n",
            "Requirement already satisfied: jaraco.classes in c:\\users\\sachsanjoy\\appdata\\local\\programs\\python\\python312\\lib\\site-packages (from keyring>=4.0->astroquery) (3.3.0)\n",
            "Requirement already satisfied: pywin32-ctypes>=0.2.0 in c:\\users\\sachsanjoy\\appdata\\local\\programs\\python\\python312\\lib\\site-packages (from keyring>=4.0->astroquery) (0.2.2)\n",
            "Requirement already satisfied: charset-normalizer<4,>=2 in c:\\users\\sachsanjoy\\appdata\\local\\programs\\python\\python312\\lib\\site-packages (from requests>=2.4.3->astroquery) (3.3.2)\n",
            "Requirement already satisfied: idna<4,>=2.5 in c:\\users\\sachsanjoy\\appdata\\local\\programs\\python\\python312\\lib\\site-packages (from requests>=2.4.3->astroquery) (3.6)\n",
            "Requirement already satisfied: urllib3<3,>=1.21.1 in c:\\users\\sachsanjoy\\appdata\\local\\programs\\python\\python312\\lib\\site-packages (from requests>=2.4.3->astroquery) (2.1.0)\n",
            "Requirement already satisfied: certifi>=2017.4.17 in c:\\users\\sachsanjoy\\appdata\\local\\programs\\python\\python312\\lib\\site-packages (from requests>=2.4.3->astroquery) (2023.11.17)\n",
            "Requirement already satisfied: more-itertools in c:\\users\\sachsanjoy\\appdata\\local\\programs\\python\\python312\\lib\\site-packages (from jaraco.classes->keyring>=4.0->astroquery) (10.1.0)\n"
          ]
        },
        {
          "name": "stderr",
          "output_type": "stream",
          "text": [
            "\n",
            "[notice] A new release of pip is available: 23.2.1 -> 23.3.2\n",
            "[notice] To update, run: python.exe -m pip install --upgrade pip\n"
          ]
        },
        {
          "name": "stdout",
          "output_type": "stream",
          "text": [
            "Requirement already satisfied: matplotlib in c:\\users\\sachsanjoy\\appdata\\local\\programs\\python\\python312\\lib\\site-packages (3.8.2)\n",
            "Requirement already satisfied: contourpy>=1.0.1 in c:\\users\\sachsanjoy\\appdata\\local\\programs\\python\\python312\\lib\\site-packages (from matplotlib) (1.2.0)\n",
            "Requirement already satisfied: cycler>=0.10 in c:\\users\\sachsanjoy\\appdata\\local\\programs\\python\\python312\\lib\\site-packages (from matplotlib) (0.12.1)\n",
            "Requirement already satisfied: fonttools>=4.22.0 in c:\\users\\sachsanjoy\\appdata\\local\\programs\\python\\python312\\lib\\site-packages (from matplotlib) (4.47.0)\n",
            "Requirement already satisfied: kiwisolver>=1.3.1 in c:\\users\\sachsanjoy\\appdata\\local\\programs\\python\\python312\\lib\\site-packages (from matplotlib) (1.4.5)\n",
            "Requirement already satisfied: numpy<2,>=1.21 in c:\\users\\sachsanjoy\\appdata\\local\\programs\\python\\python312\\lib\\site-packages (from matplotlib) (1.26.3)\n",
            "Requirement already satisfied: packaging>=20.0 in c:\\users\\sachsanjoy\\appdata\\roaming\\python\\python312\\site-packages (from matplotlib) (23.2)\n",
            "Requirement already satisfied: pillow>=8 in c:\\users\\sachsanjoy\\appdata\\local\\programs\\python\\python312\\lib\\site-packages (from matplotlib) (10.2.0)\n",
            "Requirement already satisfied: pyparsing>=2.3.1 in c:\\users\\sachsanjoy\\appdata\\local\\programs\\python\\python312\\lib\\site-packages (from matplotlib) (3.1.1)\n",
            "Requirement already satisfied: python-dateutil>=2.7 in c:\\users\\sachsanjoy\\appdata\\roaming\\python\\python312\\site-packages (from matplotlib) (2.8.2)\n",
            "Requirement already satisfied: six>=1.5 in c:\\users\\sachsanjoy\\appdata\\roaming\\python\\python312\\site-packages (from python-dateutil>=2.7->matplotlib) (1.16.0)\n"
          ]
        },
        {
          "name": "stderr",
          "output_type": "stream",
          "text": [
            "\n",
            "[notice] A new release of pip is available: 23.2.1 -> 23.3.2\n",
            "[notice] To update, run: python.exe -m pip install --upgrade pip\n"
          ]
        },
        {
          "name": "stdout",
          "output_type": "stream",
          "text": [
            "Requirement already satisfied: pandas in c:\\users\\sachsanjoy\\appdata\\local\\programs\\python\\python312\\lib\\site-packages (2.1.4)\n",
            "Requirement already satisfied: numpy<2,>=1.26.0 in c:\\users\\sachsanjoy\\appdata\\local\\programs\\python\\python312\\lib\\site-packages (from pandas) (1.26.3)\n",
            "Requirement already satisfied: python-dateutil>=2.8.2 in c:\\users\\sachsanjoy\\appdata\\roaming\\python\\python312\\site-packages (from pandas) (2.8.2)\n",
            "Requirement already satisfied: pytz>=2020.1 in c:\\users\\sachsanjoy\\appdata\\local\\programs\\python\\python312\\lib\\site-packages (from pandas) (2023.3.post1)\n",
            "Requirement already satisfied: tzdata>=2022.1 in c:\\users\\sachsanjoy\\appdata\\local\\programs\\python\\python312\\lib\\site-packages (from pandas) (2023.4)\n",
            "Requirement already satisfied: six>=1.5 in c:\\users\\sachsanjoy\\appdata\\roaming\\python\\python312\\site-packages (from python-dateutil>=2.8.2->pandas) (1.16.0)\n"
          ]
        },
        {
          "name": "stderr",
          "output_type": "stream",
          "text": [
            "\n",
            "[notice] A new release of pip is available: 23.2.1 -> 23.3.2\n",
            "[notice] To update, run: python.exe -m pip install --upgrade pip\n"
          ]
        },
        {
          "name": "stdout",
          "output_type": "stream",
          "text": [
            "Requirement already satisfied: scipy in c:\\users\\sachsanjoy\\appdata\\local\\programs\\python\\python312\\lib\\site-packages (1.11.4)\n",
            "Requirement already satisfied: numpy<1.28.0,>=1.21.6 in c:\\users\\sachsanjoy\\appdata\\local\\programs\\python\\python312\\lib\\site-packages (from scipy) (1.26.3)\n"
          ]
        },
        {
          "name": "stderr",
          "output_type": "stream",
          "text": [
            "\n",
            "[notice] A new release of pip is available: 23.2.1 -> 23.3.2\n",
            "[notice] To update, run: python.exe -m pip install --upgrade pip\n"
          ]
        },
        {
          "name": "stdout",
          "output_type": "stream",
          "text": [
            "Requirement already satisfied: scikit-learn in c:\\users\\sachsanjoy\\appdata\\local\\programs\\python\\python312\\lib\\site-packages (1.3.2)\n",
            "Requirement already satisfied: numpy<2.0,>=1.17.3 in c:\\users\\sachsanjoy\\appdata\\local\\programs\\python\\python312\\lib\\site-packages (from scikit-learn) (1.26.3)\n",
            "Requirement already satisfied: scipy>=1.5.0 in c:\\users\\sachsanjoy\\appdata\\local\\programs\\python\\python312\\lib\\site-packages (from scikit-learn) (1.11.4)\n",
            "Requirement already satisfied: joblib>=1.1.1 in c:\\users\\sachsanjoy\\appdata\\local\\programs\\python\\python312\\lib\\site-packages (from scikit-learn) (1.3.2)\n",
            "Requirement already satisfied: threadpoolctl>=2.0.0 in c:\\users\\sachsanjoy\\appdata\\local\\programs\\python\\python312\\lib\\site-packages (from scikit-learn) (3.2.0)\n"
          ]
        },
        {
          "name": "stderr",
          "output_type": "stream",
          "text": [
            "\n",
            "[notice] A new release of pip is available: 23.2.1 -> 23.3.2\n",
            "[notice] To update, run: python.exe -m pip install --upgrade pip\n"
          ]
        },
        {
          "name": "stdout",
          "output_type": "stream",
          "text": [
            "Collecting gaiadr3-zeropoint\n",
            "  Downloading gaiadr3_zeropoint-0.0.4-py3-none-any.whl (10 kB)\n",
            "Requirement already satisfied: numpy in c:\\users\\sachsanjoy\\appdata\\local\\programs\\python\\python312\\lib\\site-packages (from gaiadr3-zeropoint) (1.26.3)\n",
            "Installing collected packages: gaiadr3-zeropoint\n",
            "Successfully installed gaiadr3-zeropoint-0.0.4\n"
          ]
        },
        {
          "name": "stderr",
          "output_type": "stream",
          "text": [
            "\n",
            "[notice] A new release of pip is available: 23.2.1 -> 23.3.2\n",
            "[notice] To update, run: python.exe -m pip install --upgrade pip\n"
          ]
        }
      ],
      "source": [
        "# python 3.12.1\n",
        "\n",
        "! pip install numpy\n",
        "! pip install astropy\n",
        "! pip install astroquery\n",
        "! pip install matplotlib\n",
        "! pip install pandas\n",
        "! pip install scipy\n",
        "! pip install scikit-learn\n",
        "! pip install gaiadr3-zeropoint\n"
      ]
    },
    {
      "cell_type": "markdown",
      "metadata": {},
      "source": [
        "# Download data from GAIA DR3 database"
      ]
    },
    {
      "cell_type": "code",
      "execution_count": 9,
      "metadata": {},
      "outputs": [
        {
          "name": "stderr",
          "output_type": "stream",
          "text": [
            "WARNING: OverflowError converting to IntType in column solution_id, reverting to String. [astropy.io.ascii.fastbasic]\n",
            "WARNING: OverflowError converting to IntType in column source_id, reverting to String. [astropy.io.ascii.fastbasic]\n"
          ]
        },
        {
          "name": "stdout",
          "output_type": "stream",
          "text": [
            "    solution_id             designation          ... libname_gspphot\n",
            "------------------- ---------------------------- ... ---------------\n",
            "1636148068921376768 Gaia DR3 2052799620786165120 ...              --\n",
            "1636148068921376768 Gaia DR3 2052802090403895552 ...              --\n",
            "1636148068921376768 Gaia DR3 2052802541363698816 ...              --\n",
            "1636148068921376768 Gaia DR3 2052802541370131072 ...              --\n",
            "1636148068921376768 Gaia DR3 2052797353049624064 ...              --\n",
            "1636148068921376768 Gaia DR3 2052797005151969024 ...              --\n",
            "1636148068921376768 Gaia DR3 2052797005151969792 ...              --\n",
            "1636148068921376768 Gaia DR3 2052797005151969920 ...         PHOENIX\n",
            "1636148068921376768 Gaia DR3 2052797005152486144 ...              --\n",
            "1636148068921376768 Gaia DR3 2052797005161247360 ...              --\n",
            "                ...                          ... ...             ...\n",
            "1636148068921376768 Gaia DR3 2051317062501966080 ...              --\n",
            "1636148068921376768 Gaia DR3 2051317062501966208 ...              --\n",
            "1636148068921376768 Gaia DR3 2051317062513317376 ...              --\n",
            "1636148068921376768 Gaia DR3 2051317066802800768 ...         PHOENIX\n",
            "1636148068921376768 Gaia DR3 2051317066804630144 ...              --\n",
            "1636148068921376768 Gaia DR3 2051317096861704704 ...              --\n",
            "1636148068921376768 Gaia DR3 2051317096861717376 ...         PHOENIX\n",
            "1636148068921376768 Gaia DR3 2051317096870641024 ...              --\n",
            "1636148068921376768 Gaia DR3 2051317096870675968 ...              --\n",
            "1636148068921376768 Gaia DR3 2051317101162539648 ...              --\n",
            "1636148068921376768 Gaia DR3 2051317101162539776 ...              --\n",
            "Length = 36146 rows\n"
          ]
        }
      ],
      "source": [
        "import numpy as np\n",
        "import astropy.units as u\n",
        "from astropy.coordinates import SkyCoord\n",
        "from astroquery.gaia import Gaia        \n",
        "\n",
        "#cluster center\n",
        "#ra, dec, radius = 290.21375,37.77388888888889,0.38333333333333336 # fov6791_kamann_23\n",
        "#ra, dec, radius = 295.32166666666666,40.18833333333333,0.38333333333333336 # fov6819_kamann_23\n",
        "ra = input('Enter RA at cluster center : ')\n",
        "dec = input('Enter DEC at cluster center : ')\n",
        "radius = input('Enter Radius in arcmin from the cluster center: ')\n",
        " \n",
        "job = Gaia.launch_job_async(\"SELECT TOP 10000000 * \"\n",
        "                            \"FROM gaiadr3.gaia_source WHERE CONTAINS(POINT('ICRS',gaiadr3.gaia_source.ra,gaiadr3.gaia_source.dec),\"\n",
        "                            \"CIRCLE('ICRS',\"+str(ra)+\",\"+str(dec)+\",\"+str(radius)+\"))=1\",\n",
        "                            dump_to_file=True, output_format='csv')\n",
        "r = job.get_results()\n",
        "print(r)\n"
      ]
    },
    {
      "cell_type": "markdown",
      "metadata": {},
      "source": [
        "\n",
        "# Gaussian Mixture Model\n",
        "\n",
        "\n",
        "Plot the confidence ellipsoids of a mixture of two Gaussians\n",
        "obtained with Expectation Maximisation (``GaussianMixture`` class) and\n",
        "Variational Inference (``BayesianGaussianMixture`` class models with\n",
        "a Dirichlet process prior).\n",
        "\n",
        "Both models have access to five components with which to fit the data. Note\n",
        "that the Expectation Maximisation model will necessarily use all five\n",
        "components while the Variational Inference model will effectively only use as\n",
        "many as are needed for a good fit. Here we can see that the Expectation\n",
        "Maximisation model splits some components arbitrarily, because it is trying to\n",
        "fit too many components, while the Dirichlet Process model adapts it number of\n",
        "state automatically.\n",
        "\n",
        "Another advantage of the Dirichlet process model is that it can fit\n",
        "full covariance matrices effectively even when there are less examples\n",
        "per cluster than there are dimensions in the data, due to\n",
        "regularization properties of the inference algorithm.\n",
        "\n",
        "# Input\n",
        "\n",
        "\n"
      ]
    },
    {
      "cell_type": "code",
      "execution_count": 65,
      "metadata": {},
      "outputs": [],
      "source": [
        "# the data downloaded from gaia search module\n",
        "gaia_data = '1704317857774O-result.csv' # sample data downloaded using the astroquery using above cell.\n",
        "\n",
        "# could use multiple centroids then we need to find which centroid fits best with the expected results (by looking at the literature values)\n",
        "# minimum should be 2, one representing cluster and one representing filed star\n",
        "number_of_centroids = 2 \n",
        "\n",
        "# The cut of probability that you give to detrmine the centroid parameters from the selected cluster members (0.9 means 90%)\n",
        "probability_cut_off = 0.9\n",
        "\n",
        "# if you need include RV filter to probability set to True\n",
        "rv_parameter = False"
      ]
    },
    {
      "cell_type": "markdown",
      "metadata": {},
      "source": [
        "# Main module\n",
        "- Run it after configuring input"
      ]
    },
    {
      "cell_type": "code",
      "execution_count": 67,
      "metadata": {
        "tags": []
      },
      "outputs": [
        {
          "name": "stdout",
          "output_type": "stream",
          "text": [
            "Using matplotlib backend: TkAgg\n",
            "original data:  33217\n",
            "after proper-motion nan correction:  33217\n",
            "after parallax nan correction: 29920\n",
            "after parallax uncertainity filter:  14357\n",
            "after pmra uncertainity filter:  13475\n",
            "after pmdec uncertainity filter:  13228\n",
            "after parallax field filter:  11306\n",
            "RUNNING GMM MODELS ON THE PREPROCESSED DATA...\n",
            "Final data length before gmm :  11306\n",
            "Bayesian Gaussian Mixture with a Dirichlet process prior\n",
            "Full covariance matrices\n",
            "GMM Run time :  0.262270450592041  seconds\n",
            "displaying the paramters and plots for each centroids...\n",
            "Almost certain members :  2177\n",
            "Centroid 0, ra: 37.77640230153851 +/- 2.9743664460028377e-05, dec: 290.22124364664603 +/- 3.657001616541952e-05, \n",
            "            pmra: -0.4320789509764506 +/- 4.818479559396929e-05, pmdec: -2.2813222630219423 +/- 5.591265328930792e-05,\n",
            "            parallax: 0.27565330447926045 +/- 3.547134166988586e-05\n",
            "Almost certain members :  8979\n",
            "Centroid 1, ra: 37.7659574834137 +/- 2.0980710404155247e-05, dec: 290.2192150350791 +/- 2.687994563993009e-05, \n",
            "            pmra: -2.066272312960822 +/- 0.0003275236460645141, pmdec: -5.044366631415759 +/- 0.0004744068070243251,\n",
            "            parallax: 0.47442389973454335 +/- 2.3578831988742762e-05\n"
          ]
        }
      ],
      "source": [
        "%matplotlib\n",
        "import itertools\n",
        "import time\n",
        "\n",
        "import numpy as np\n",
        "import pandas as pd\n",
        "import matplotlib.pyplot as plt\n",
        "import matplotlib as mpl\n",
        "import scipy.stats\n",
        "\n",
        "from scipy import linalg\n",
        "from sklearn.cluster import KMeans\n",
        "from sklearn import mixture\n",
        "\n",
        "from zero_point import zpt\n",
        "\n",
        "color_iter = itertools.cycle(['navy', 'c', 'cornflowerblue', 'gold',\n",
        "                              'darkorange'])\n",
        "\n",
        "\n",
        "def plot_results(X, Y_, means, covariances, index, title):\n",
        "    splot = plt.subplot(2, 1, 1 + index)\n",
        "    for i, (mean, covar, color) in enumerate(zip(\n",
        "            means, covariances, color_iter)):\n",
        "        v, w = linalg.eigh(covar)\n",
        "        v = 2. * np.sqrt(2.) * np.sqrt(v)\n",
        "        u = w[0] / linalg.norm(w[0])\n",
        "        # as the DP will not use every component it has access to\n",
        "        # unless it needs it, we shouldn't plot the redundant\n",
        "        # components.\n",
        "        if not np.any(Y_ == i):\n",
        "            continue\n",
        "        plt.scatter(X[Y_ == i, 0], X[Y_ == i, 1], .8, color=color)\n",
        "\n",
        "        # Plot an ellipse to show the Gaussian component\n",
        "        angle = np.arctan(u[1] / u[0])\n",
        "        angle = 180. * angle / np.pi  # convert to degrees\n",
        "        ell = mpl.patches.Ellipse(mean, v[0], v[1], 180. + angle, color=color)\n",
        "        ell.set_clip_box(splot.bbox)\n",
        "        ell.set_alpha(0.5)\n",
        "        splot.add_artist(ell)\n",
        "\n",
        "    plt.xlim(-9., 5.)\n",
        "    plt.ylim(-3., 6.)\n",
        "    plt.xticks(())\n",
        "    plt.yticks(())\n",
        "    plt.title(title)\n",
        "\n",
        "def gauss_mix(X,n,mode,plot=False):\n",
        "    tic = time.time()\n",
        "    if mode =='dpgmm':\n",
        "        # Fit a Dirichlet process Gaussian mixture using five components\n",
        "        dpgmm = mixture.BayesianGaussianMixture(n_components=n,\n",
        "                                                covariance_type='full',random_state=1,max_iter=5000).fit(X)\n",
        "        if plot == True:\n",
        "            plot_results(X, dpgmm.predict(X), dpgmm.means_, dpgmm.covariances_, 1,\n",
        "                    'Bayesian Gaussian Mixture with a Dirichlet process prior')\n",
        "\n",
        "        print('Bayesian Gaussian Mixture with a Dirichlet process prior')\n",
        "        centers = np.empty(shape=(dpgmm.n_components, X.shape[1]))\n",
        "        kp = np.zeros(1)\n",
        "        for i in range(dpgmm.n_components):\n",
        "            density = scipy.stats.multivariate_normal(cov=dpgmm.covariances_[i], mean=dpgmm.means_[i]).logpdf(X)\n",
        "            centers[i, :] = X[np.argmax(density)]\n",
        "            kp = np.vstack((kp,i))\n",
        "        if plot == True:\n",
        "            plt.scatter(centers[:, 0], centers[:, 1], s=20,marker='*')\n",
        "            plt.show()\n",
        "        print('Full covariance matrices')\n",
        "        #print(dpgmm.covariances_)\n",
        "        p=dpgmm.predict_proba(X)\n",
        "        q=dpgmm.predict(X)\n",
        "    else:\n",
        "        # Fit a Gaussian mixture with EM using five components\n",
        "        gmm = mixture.GaussianMixture(n_components=n, covariance_type='full',random_state=1).fit(X)\n",
        "        if plot == True:\n",
        "            plot_results(X, gmm.predict(X), gmm.means_, gmm.covariances_, 0,\n",
        "                   'Gaussian Mixture')\n",
        "\n",
        "        print('Gaussian Mixture Results')\n",
        "        centers = np.empty(shape=(gmm.n_components, X.shape[1]))\n",
        "        kp = np.zeros(1)\n",
        "        for i in range(gmm.n_components):\n",
        "            density = scipy.stats.multivariate_normal(cov=gmm.covariances_[i], mean=gmm.means_[i]).logpdf(X)\n",
        "            centers[i, :] = X[np.argmax(density)]\n",
        "            kp = np.vstack((kp,i))\n",
        "        if plot == True:\n",
        "            plt.scatter(centers[:, 0], centers[:, 1], s=20,marker='*',color='red')\n",
        "            plt.show()\n",
        "\n",
        "        print('Full covariance matrices')\n",
        "        #print(gmm.covariances_)\n",
        "        p=gmm.predict_proba(X)\n",
        "        q=gmm.predict(X)\n",
        "\n",
        "    if np.shape(X)[1] == 2:\n",
        "        kp = np.column_stack((kp[1:],centers[:, 0]))\n",
        "        kp = np.column_stack((kp, centers[:, 1]))\n",
        "    elif np.shape(X)[1] == 3:\n",
        "        kp = np.column_stack((kp[1:],centers[:, 0]))\n",
        "        kp = np.column_stack((kp, centers[:, 1]))\n",
        "        kp = np.column_stack((kp, centers[:, 2]))\n",
        "    elif np.shape(X)[1] == 4:\n",
        "        kp = np.column_stack((kp[1:],centers[:, 0]))\n",
        "        kp = np.column_stack((kp, centers[:, 1]))\n",
        "        kp = np.column_stack((kp, centers[:, 2]))\n",
        "        kp = np.column_stack((kp, centers[:, 3]))\n",
        "    elif np.shape(X)[1] == 5:\n",
        "        kp = np.column_stack((kp[1:],centers[:, 0]))\n",
        "        kp = np.column_stack((kp, centers[:, 1]))\n",
        "        kp = np.column_stack((kp, centers[:, 2]))\n",
        "        kp = np.column_stack((kp, centers[:, 3]))\n",
        "        kp = np.column_stack((kp, centers[:, 4]))\n",
        "    elif np.shape(X)[1] == 6:\n",
        "        kp = np.column_stack((kp[1:],centers[:, 0]))\n",
        "        kp = np.column_stack((kp, centers[:, 1]))\n",
        "        kp = np.column_stack((kp, centers[:, 2]))\n",
        "        kp = np.column_stack((kp, centers[:, 3]))\n",
        "        kp = np.column_stack((kp, centers[:, 4]))\n",
        "        kp = np.column_stack((kp, centers[:, 5]))\n",
        "        \n",
        "    #print('Centeroids')\n",
        "    #print(kp)\n",
        "    toc = time.time()\n",
        "    print('GMM Run time : ',toc-tic,' seconds')\n",
        "    return p,q\n",
        "\n",
        "########### START ####################################################\n",
        "df1 = pd.read_csv(gaia_data)\n",
        "\n",
        "df1 = df1[df1.astrometric_params_solved>3] # removing 3 parameter solutions\n",
        "#zeropoint from lindgren 2020, adsurl = https://ui.adsabs.harvard.edu/abs/2020arXiv201201742L\n",
        "zpt.load_tables()\n",
        "df1['zero_point'] = df1.apply(zpt.zpt_wrapper,axis=1)\n",
        "df1.parallax = df1.parallax - df1.zero_point # zeropoint correction\n",
        "\n",
        "print('original data: ',len(df1))\n",
        "df1 = df1[np.isfinite(df1['pmra'])]\n",
        "df1 = df1[np.isfinite(df1['pmdec'])]\n",
        "print('after proper-motion nan correction: ',len(df1))\n",
        "df1 = df1[np.isfinite(df1['parallax'])]\n",
        "print('after parallax nan correction:', len(df1))\n",
        "if rv_parameter:\n",
        "    df1 = df1[np.isfinite(df1['radial_velocity'])]\n",
        "    print('after radial velocity nan correction:', len(df1))\n",
        "\n",
        "#uncertainity filter\n",
        "df1['un_plx'] = abs(df1['parallax_error']/df1['parallax'])*100\n",
        "df1 = df1[df1.un_plx<=50]\n",
        "print('after parallax uncertainity filter: ',len(df1))\n",
        "df1['un_pmra'] = abs(df1['pmra_error']/df1['pmra'])*100\n",
        "df1 = df1[df1.un_pmra<=50]\n",
        "print('after pmra uncertainity filter: ',len(df1))\n",
        "df1['un_pmdec'] = abs(df1['pmdec_error']/df1['pmdec'])*100\n",
        "df1 = df1[df1.un_pmdec<=50]\n",
        "print('after pmdec uncertainity filter: ',len(df1))\n",
        "\n",
        "#filtering forground and background\n",
        "df1 = df1[(df1.parallax>0)&(df1.parallax<1)]\n",
        "print('after parallax field filter: ',len(df1))\n",
        "\n",
        "print('RUNNING GMM MODELS ON THE PREPROCESSED DATA...')\n",
        "\n",
        "p1 = df1.pmra\n",
        "p2 = df1.pmdec\n",
        "p3 = df1.parallax\n",
        "if rv_parameter:\n",
        "    p4 = df1.radial_velocity\n",
        "p5 = df1.ra\n",
        "p6 = df1.dec\n",
        "\n",
        "X = np.column_stack([p1,p2])\n",
        "X = np.column_stack([X,p3])\n",
        "if rv_parameter:\n",
        "    X = np.column_stack([X,p4])\n",
        "X = np.column_stack([X,p5])\n",
        "X = np.column_stack([X,p6])\n",
        "\n",
        "XX = np.column_stack([df1.designation,X])\n",
        "print('Final data length before gmm : ', len(df1))\n",
        "#GMM\n",
        "p,q = gauss_mix(X,int(number_of_centroids),'dpgmm')\n",
        "\n",
        "#choose the right centroid from priors\n",
        "for i in range(number_of_centroids):\n",
        "    c = i        \n",
        "    #Stacking Data\n",
        "    gdata = np.column_stack([XX,q])\n",
        "    pb = np.zeros(len(p))\n",
        "    avgp1 = np.zeros(len(p))\n",
        "    avgp2 = np.zeros(len(p))\n",
        "    A = 'ID,GM,P,gmm_prob'\n",
        "    gmm_prob = np.zeros(1)\n",
        "    for j in range(len(p)):\n",
        "        pb[j] = p[j][q[j]]\n",
        "        gmm_prob = np.vstack((gmm_prob,p[j][int(c)]))\n",
        "    gdata = np.column_stack([gdata,pb])\n",
        "    df1[rf'gmm_prob_centroid_{i}'] = gmm_prob[1:]\n",
        "\n",
        "\n",
        "df1.to_csv(rf'GMM_PROBABILITY.csv')\n",
        "\n",
        "print('displaying the paramters and plots for each centroids...')\n",
        "\n",
        "for i in range(number_of_centroids):\n",
        "    pt = probability_cut_off\n",
        "    print('Almost certain members : ', len(df1[df1[rf'gmm_prob_centroid_{i}']>pt]))\n",
        "    dfc = df1[df1[rf'gmm_prob_centroid_{i}']>pt]\n",
        "    ldata = len(dfc)\n",
        "    p1 = dfc.pmra\n",
        "    p2 = dfc.pmdec\n",
        "    p3 = dfc.parallax\n",
        "    p4 = dfc.ra\n",
        "    p5 = dfc.dec\n",
        "    if rv_parameter:\n",
        "        p6 = dfc.radial_velocity\n",
        "    \n",
        "    plt.figure(figsize=(10,6))\n",
        "    plt.rc('xtick', labelsize=12)\n",
        "    plt.rc('ytick', labelsize=12)\n",
        "    plt.plot(dfc.bp_rp,dfc.phot_g_mean_mag,'.',ms=2,color='grey',label=r'cluster members')\n",
        "    plt.gca().invert_yaxis()\n",
        "    plt.legend(loc=2,frameon=False)\n",
        "    plt.ylabel(r'G',size = 12)\n",
        "    \n",
        "    if rv_parameter:\n",
        "        titl = rf'''Centroid {i}, ra: {np.mean(p5)} +/- {np.std(p5)/ldata}, dec: {np.mean(p4)} +/- {np.std(p4)/ldata}, \n",
        "            pmra: {np.mean(p1)} +/- {np.std(p1)/ldata}, pmdec: {np.mean(p2)} +/- {np.std(p2)/ldata},\n",
        "            parallax: {np.mean(p3)} +/- {np.std(p3)/ldata}, radial_velocity: {np.mean(p6)} +/- {np.std(p6)/ldata}'''\n",
        "    else:\n",
        "        titl = rf'''Centroid {i}, ra: {np.mean(p5)} +/- {np.std(p5)/ldata}, dec: {np.mean(p4)} +/- {np.std(p4)/ldata}, \n",
        "            pmra: {np.mean(p1)} +/- {np.std(p1)/ldata}, pmdec: {np.mean(p2)} +/- {np.std(p2)/ldata},\n",
        "            parallax: {np.mean(p3)} +/- {np.std(p3)/ldata}'''\n",
        "    \n",
        "    plt.title(titl)\n",
        "    plt.tight_layout()\n",
        "    plt.savefig(rf'centroid_{i}.png')\n",
        "    plt.show()\n",
        "    print(titl)\n",
        "    "
      ]
    },
    {
      "cell_type": "markdown",
      "metadata": {},
      "source": [
        "# NOTES\n",
        "- The output is saved as 'GMM_PROBABILITY.csv'\n",
        "- It will also plot the results from differnt centroids in CMD.\n",
        "- The probability parameters obtained from different centroids are given as outputs.\n",
        "- If you choose one centroid looking at the CMD and the parameter values, you can find the probability column in the csv file with name 'gmm_prob_centroid_x' "
      ]
    }
  ],
  "metadata": {
    "kernelspec": {
      "display_name": "Python 3.8.5 32-bit",
      "language": "python",
      "name": "python3"
    },
    "language_info": {
      "codemirror_mode": {
        "name": "ipython",
        "version": 3
      },
      "file_extension": ".py",
      "mimetype": "text/x-python",
      "name": "python",
      "nbconvert_exporter": "python",
      "pygments_lexer": "ipython3",
      "version": "3.12.1"
    },
    "metadata": {
      "interpreter": {
        "hash": "a3d00677fdb037f05f9bc808f34326f93da358f83f48ff6c31c7bf7aa5165864"
      }
    },
    "vscode": {
      "interpreter": {
        "hash": "92f5ea1b21b11d8ede29b23fe88f9d8a3841e6cfdef9861478b9ac7ad2acab43"
      }
    }
  },
  "nbformat": 4,
  "nbformat_minor": 2
}
